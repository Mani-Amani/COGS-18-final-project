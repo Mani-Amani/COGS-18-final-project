{
 "cells": [
  {
   "cell_type": "code",
   "execution_count": null,
   "metadata": {},
   "outputs": [],
   "source": []
  },
  {
   "cell_type": "code",
   "execution_count": 4,
   "metadata": {},
   "outputs": [
    {
     "name": "stdout",
     "output_type": "stream",
     "text": [
      "============================= test session starts =============================\n",
      "platform win32 -- Python 3.7.6, pytest-5.3.5, py-1.8.1, pluggy-0.13.1\n",
      "rootdir: C:\\Users\\asus\\FinalProj\n",
      "plugins: hypothesis-5.5.4, arraydiff-0.3, astropy-header-0.1.2, doctestplus-0.5.0, openfiles-0.4.0, remotedata-0.3.2\n",
      "collected 2 items\n",
      "\n",
      "test4.py ..                                                              [100%]\n",
      "\n",
      "============================== 2 passed in 0.05s ==============================\n"
     ]
    }
   ],
   "source": [
    "from functions import create_accel_lst\n",
    "from functions import calibration_for_xy\n",
    "from functions import calibration_for_z\n",
    "from functions import integration_for_distance\n",
    "from functions import Navigator\n",
    "accelx=create_accel_lst()\n",
    "accely=create_accel_lst()\n",
    "accelz=create_accel_lst()\n",
    "robot=Navigator()\n",
    "robot.calculate_distance(accelx,accely,accelz,0)\n",
    "!pytest test4.py"
   ]
  },
  {
   "cell_type": "code",
   "execution_count": null,
   "metadata": {},
   "outputs": [],
   "source": []
  },
  {
   "cell_type": "code",
   "execution_count": null,
   "metadata": {},
   "outputs": [],
   "source": []
  }
 ],
 "metadata": {
  "kernelspec": {
   "display_name": "Python 3",
   "language": "python",
   "name": "python3"
  },
  "language_info": {
   "codemirror_mode": {
    "name": "ipython",
    "version": 3
   },
   "file_extension": ".py",
   "mimetype": "text/x-python",
   "name": "python",
   "nbconvert_exporter": "python",
   "pygments_lexer": "ipython3",
   "version": "3.7.6"
  }
 },
 "nbformat": 4,
 "nbformat_minor": 4
}
